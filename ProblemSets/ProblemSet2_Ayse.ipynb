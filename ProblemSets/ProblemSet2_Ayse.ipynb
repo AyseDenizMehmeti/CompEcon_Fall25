{
 "cells": [
  {
   "cell_type": "markdown",
   "id": "a71044a7",
   "metadata": {},
   "source": [
    "# Problem Set 2\n",
    "Ayse Mehmeti   "
   ]
  },
  {
   "cell_type": "markdown",
   "id": "281e5771",
   "metadata": {},
   "source": [
    "Standard Library Chapter\n",
    "\n",
    "Problem 1"
   ]
  },
  {
   "cell_type": "code",
   "execution_count": 19,
   "id": "6796d158",
   "metadata": {},
   "outputs": [
    {
     "name": "stdout",
     "output_type": "stream",
     "text": [
      "(2, 8, 5.0)\n",
      "(10, 40, 25.0)\n",
      "(3, 9, 6.0)\n"
     ]
    }
   ],
   "source": [
    "def list_stats(L):\n",
    "    return (min(L), max(L), sum(L)/len(L))   \n",
    "numbers1 = [2, 5, 8]\n",
    "numbers2 = [10, 20, 30, 40]\n",
    "numbers3 = [3, 6, 9]\n",
    "\n",
    "stats1 = list_stats(numbers1)\n",
    "stats2 = list_stats(numbers2)\n",
    "stats3 = list_stats(numbers3)\n",
    "\n",
    "print(list_stats(numbers1)) \n",
    "print(list_stats(numbers2))  \n",
    "print(list_stats(numbers3))   \n"
   ]
  },
  {
   "cell_type": "markdown",
   "id": "aa91262e",
   "metadata": {},
   "source": [
    "Problem 2"
   ]
  },
  {
   "cell_type": "code",
   "execution_count": 20,
   "id": "2de970e2",
   "metadata": {},
   "outputs": [
    {
     "name": "stdout",
     "output_type": "stream",
     "text": [
      "int: 10 11 False\n"
     ]
    }
   ],
   "source": [
    "# int (immutable)\n",
    "x = 10\n",
    "y = x\n",
    "y += 1\n",
    "print(\"int:\", x, y, x == y)"
   ]
  },
  {
   "cell_type": "code",
   "execution_count": 21,
   "id": "bcbbf32e",
   "metadata": {},
   "outputs": [
    {
     "name": "stdout",
     "output_type": "stream",
     "text": [
      "str: hello hello world False\n"
     ]
    }
   ],
   "source": [
    "# str (immutable)\n",
    "s1 = \"hello\"\n",
    "s2 = s1\n",
    "s2 += \" world\"\n",
    "print(\"str:\", s1, s2, s1 == s2)"
   ]
  },
  {
   "cell_type": "code",
   "execution_count": 22,
   "id": "c6b4b1d6",
   "metadata": {},
   "outputs": [
    {
     "name": "stdout",
     "output_type": "stream",
     "text": [
      "list: [1, 2, 3, 4] [1, 2, 3, 4] True\n"
     ]
    }
   ],
   "source": [
    "# list (mutable)\n",
    "l1 = [1, 2, 3]\n",
    "l2 = l1\n",
    "l2.append(4)\n",
    "print(\"list:\", l1, l2, l1 == l2)"
   ]
  },
  {
   "cell_type": "code",
   "execution_count": 23,
   "id": "3bd02dde",
   "metadata": {},
   "outputs": [
    {
     "name": "stdout",
     "output_type": "stream",
     "text": [
      "tuple: (1, 2, 3) (1, 2, 3, 4) False\n"
     ]
    }
   ],
   "source": [
    "# tuple (immutable)\n",
    "t1 = (1, 2, 3)\n",
    "t2 = t1\n",
    "t2 += (4,)\n",
    "print(\"tuple:\", t1, t2, t1 == t2)"
   ]
  },
  {
   "cell_type": "code",
   "execution_count": 24,
   "id": "a6b550c7",
   "metadata": {},
   "outputs": [
    {
     "name": "stdout",
     "output_type": "stream",
     "text": [
      "set: {1, 2, 3, 4} {1, 2, 3, 4} True\n"
     ]
    }
   ],
   "source": [
    "# set (mutable)\n",
    "set1 = {1, 2, 3}\n",
    "set2 = set1\n",
    "set2.add(4)\n",
    "print(\"set:\", set1, set2, set1 == set2)"
   ]
  },
  {
   "cell_type": "markdown",
   "id": "802ee8f1",
   "metadata": {},
   "source": [
    "Problem 3"
   ]
  },
  {
   "cell_type": "code",
   "execution_count": 25,
   "id": "39860ef2",
   "metadata": {},
   "outputs": [
    {
     "name": "stdout",
     "output_type": "stream",
     "text": [
      "5.0\n",
      "13.0\n"
     ]
    }
   ],
   "source": [
    "import calculator\n",
    "\n",
    "def hypotenuse(a, b):\n",
    "    return calculator.sqrt(\n",
    "        calculator.add(\n",
    "            calculator.multiply(a, a),\n",
    "            calculator.multiply(b, b)\n",
    "        )\n",
    "    )\n",
    "\n",
    "print(hypotenuse(3, 4))   # 5.0\n",
    "print(hypotenuse(5, 12))  # 13.0\n"
   ]
  },
  {
   "cell_type": "markdown",
   "id": "cf91c7d4",
   "metadata": {},
   "source": [
    " Introduction to Numpy chapter\n",
    "\n",
    " Problem 1"
   ]
  },
  {
   "cell_type": "code",
   "execution_count": 1,
   "id": "22759f72",
   "metadata": {},
   "outputs": [
    {
     "name": "stdout",
     "output_type": "stream",
     "text": [
      "[[ 37  14 -32 -10]\n",
      " [-54  -7  58  65]]\n"
     ]
    }
   ],
   "source": [
    "import numpy as np\n",
    "\n",
    "def matrix_product():\n",
    "    # Define matrices A and B\n",
    "    A = np.array([[3, -1, 4],\n",
    "                  [1,  5, -9]])\n",
    "\n",
    "    B = np.array([[ 2,  6, -5,  3],\n",
    "                  [ 5, -8,  9,  7],\n",
    "                  [ 9, -3, -2, -3]])\n",
    "\n",
    "    # Multiply A and B\n",
    "    product = A @ B   # or np.dot(A, B)\n",
    "    return product\n",
    "\n",
    "# Test\n",
    "print(matrix_product())\n"
   ]
  },
  {
   "cell_type": "markdown",
   "id": "5aae621e",
   "metadata": {},
   "source": [
    "Problem 2"
   ]
  },
  {
   "cell_type": "code",
   "execution_count": 6,
   "id": "080e3c26",
   "metadata": {},
   "outputs": [
    {
     "name": "stdout",
     "output_type": "stream",
     "text": [
      "A:\n",
      " [[ 3  1  4]\n",
      " [ 1  5  9]\n",
      " [-5  3  1]]\n",
      "A squared:\n",
      " [[-10  20  25]\n",
      " [-37  53  58]\n",
      " [-17  13   8]]\n",
      "A cubed:\n",
      " [[-135  165  165]\n",
      " [-348  402  387]\n",
      " [ -78   72   57]]\n",
      "-A3:\n",
      " [[ 135 -165 -165]\n",
      " [ 348 -402 -387]\n",
      " [  78  -72  -57]]\n",
      "9*A2:\n",
      " [[ -90  180  225]\n",
      " [-333  477  522]\n",
      " [-153  117   72]]\n",
      "-15*A:\n",
      " [[ -45  -15  -60]\n",
      " [ -15  -75 -135]\n",
      " [  75  -45  -15]]\n",
      "Final result:\n",
      " [[0 0 0]\n",
      " [0 0 0]\n",
      " [0 0 0]]\n"
     ]
    }
   ],
   "source": [
    "import numpy as np\n",
    "\n",
    "def problem2():\n",
    "    A = np.array([[ 3, 1, 4],\n",
    "                  [ 1, 5, 9],\n",
    "                  [-5, 3, 1]])\n",
    "\n",
    "    A2 = A @ A\n",
    "    A3 = A @ A @ A\n",
    "\n",
    "    print(\"A:\\n\", A)\n",
    "    print(\"A squared:\\n\", A2)\n",
    "    print(\"A cubed:\\n\", A3)\n",
    "    print(\"-A3:\\n\", -A3)\n",
    "    print(\"9*A2:\\n\", 9*A2)\n",
    "    print(\"-15*A:\\n\", -15*A)\n",
    "\n",
    "    result = -A3 + 9*A2 - 15*A\n",
    "    return result\n",
    "\n",
    "print(\"Final result:\\n\", problem2())\n"
   ]
  },
  {
   "cell_type": "markdown",
   "id": "e7294bcc",
   "metadata": {},
   "source": [
    "Problem 5"
   ]
  },
  {
   "cell_type": "code",
   "execution_count": 8,
   "id": "915a233c",
   "metadata": {},
   "outputs": [
    {
     "name": "stdout",
     "output_type": "stream",
     "text": [
      "[[ 0.  0.  0.  0.  1.  1.  0.  0.]\n",
      " [ 0.  0.  0.  2.  3.  0.  1.  0.]\n",
      " [ 0.  0.  0.  4.  5.  0.  0.  1.]\n",
      " [ 0.  2.  4.  0.  0.  0.  0.  0.]\n",
      " [ 1.  3.  5.  0.  0.  0.  0.  0.]\n",
      " [ 3.  0.  0.  0.  0. -2.  0.  0.]\n",
      " [ 3.  3.  0.  0.  0.  0. -2.  0.]\n",
      " [ 3.  3.  3.  0.  0.  0.  0. -2.]]\n"
     ]
    }
   ],
   "source": [
    "def problem5():\n",
    "    A = np.array([[0, 2, 4],\n",
    "                  [1, 3, 5]])\n",
    "\n",
    "    B = np.array([[3, 0, 0],\n",
    "                  [3, 3, 0],\n",
    "                  [3, 3, 3]])\n",
    "\n",
    "    C = np.array([[-2, 0, 0],\n",
    "                  [ 0,-2, 0],\n",
    "                  [ 0, 0,-2]])\n",
    "\n",
    "    I = np.eye(3)\n",
    "\n",
    "    # Now use the correct zero block sizes\n",
    "    row1 = np.hstack([np.zeros((3,3)), A.T, I])             # [0, A^T, I]\n",
    "    row2 = np.hstack([A, np.zeros((2,2)), np.zeros((2,3))]) # [A, 0, 0]\n",
    "    row3 = np.hstack([B, np.zeros((3,2)), C])               # [B, 0, C]\n",
    "\n",
    "    return np.vstack([row1, row2, row3])\n",
    "\n",
    "print(problem5())\n"
   ]
  },
  {
   "cell_type": "markdown",
   "id": "ab32473b",
   "metadata": {},
   "source": [
    "Object Oriented Programming\n",
    "\n",
    "Problem 1"
   ]
  },
  {
   "cell_type": "code",
   "execution_count": 9,
   "id": "7cb158ee",
   "metadata": {},
   "outputs": [
    {
     "name": "stdout",
     "output_type": "stream",
     "text": [
      "No Room!\n",
      "Contents after put(): ['pencil', 'pen', 'paper', 'computer', 'snack']\n",
      "Contents after dump(): []\n"
     ]
    }
   ],
   "source": [
    "class Backpack:\n",
    "    \"\"\"\n",
    "    A Backpack object class.\n",
    "    \n",
    "    Attributes:\n",
    "        name (str): Owner of the backpack.\n",
    "        color (str): Color of the backpack.\n",
    "        max_size (int): Maximum capacity of the backpack (default = 5).\n",
    "        contents (list): Items currently inside the backpack.\n",
    "    \"\"\"\n",
    "\n",
    "    def __init__(self, name, color, max_size=5):\n",
    "        \"\"\"\n",
    "        Initialize a new Backpack object.\n",
    "        \n",
    "        Parameters:\n",
    "            name (str): The owner of the backpack.\n",
    "            color (str): The color of the backpack.\n",
    "            max_size (int, optional): Maximum number of items allowed (default = 5).\n",
    "        \"\"\"\n",
    "        self.name = name\n",
    "        self.color = color\n",
    "        self.max_size = max_size\n",
    "        self.contents = []\n",
    "\n",
    "    def put(self, item):\n",
    "        \"\"\"\n",
    "        Add an item to the backpack if there is space.\n",
    "        \n",
    "        Parameters:\n",
    "            item (str): The item to add.\n",
    "        \"\"\"\n",
    "        if len(self.contents) < self.max_size:\n",
    "            self.contents.append(item)\n",
    "        else:\n",
    "            print(\"No Room!\")\n",
    "\n",
    "    def dump(self):\n",
    "        \"\"\"\n",
    "        Empty the backpack.\n",
    "        \"\"\"\n",
    "        self.contents = []\n",
    "\n",
    "\n",
    "# ----------------------------\n",
    "# Test function\n",
    "# ----------------------------\n",
    "def test_backpack():\n",
    "    testpack = Backpack(\"Barry\", \"black\")  # make a backpack\n",
    "    \n",
    "    # Check attributes\n",
    "    if testpack.name != \"Barry\":\n",
    "        print(\"Backpack.name assigned incorrectly\")\n",
    "    \n",
    "    # Add items\n",
    "    for item in [\"pencil\", \"pen\", \"paper\", \"computer\", \"snack\", \"water\"]:\n",
    "        testpack.put(item)\n",
    "    print(\"Contents after put():\", testpack.contents)\n",
    "    \n",
    "    # Dump items\n",
    "    testpack.dump()\n",
    "    print(\"Contents after dump():\", testpack.contents)\n",
    "\n",
    "\n",
    "# Run the test\n",
    "test_backpack()"
   ]
  },
  {
   "cell_type": "markdown",
   "id": "9dd0188f",
   "metadata": {},
   "source": [
    "Problem 2"
   ]
  },
  {
   "cell_type": "code",
   "execution_count": 10,
   "id": "e0dbb121",
   "metadata": {},
   "outputs": [],
   "source": [
    "class Jetpack(Backpack):\n",
    "    \"\"\"\n",
    "    A Jetpack object class. Inherits from Backpack.\n",
    "    \n",
    "    Attributes:\n",
    "        name (str): Owner of the jetpack\n",
    "        color (str): Color of the jetpack\n",
    "        max_size (int): Maximum number of items it can hold (default = 2)\n",
    "        contents (list): List of items inside\n",
    "        fuel (int): Amount of fuel in the jetpack (default = 10)\n",
    "    \"\"\"\n",
    "\n",
    "    def __init__(self, name, color, max_size=2, fuel=10):\n",
    "        \"\"\"\n",
    "        Constructor for Jetpack object.\n",
    "        \n",
    "        Parameters:\n",
    "            name (str): Owner's name\n",
    "            color (str): Jetpack color\n",
    "            max_size (int, optional): Maximum number of items (default = 2)\n",
    "            fuel (int, optional): Amount of fuel (default = 10)\n",
    "        \"\"\"\n",
    "        # Call Backpack constructor to handle name, color, and max_size\n",
    "        super().__init__(name, color, max_size)\n",
    "        self.fuel = fuel   # new attribute\n",
    "\n",
    "    def fly(self, fuel_burn):\n",
    "        \"\"\"\n",
    "        Burn fuel to fly. \n",
    "        \n",
    "        Parameters:\n",
    "            fuel_burn (int): Amount of fuel to burn\n",
    "        \"\"\"\n",
    "        if fuel_burn <= self.fuel:\n",
    "            self.fuel -= fuel_burn\n",
    "        else:\n",
    "            print(\"Not enough fuel!\")\n",
    "\n",
    "    def dump(self):\n",
    "        \"\"\"\n",
    "        Empty both contents and fuel.\n",
    "        \"\"\"\n",
    "        self.contents = []\n",
    "        self.fuel = 0\n"
   ]
  },
  {
   "cell_type": "code",
   "execution_count": 11,
   "id": "90673c6a",
   "metadata": {},
   "outputs": [
    {
     "name": "stdout",
     "output_type": "stream",
     "text": [
      "Owner: Barry\n",
      "Color: silver\n",
      "Max Size: 2\n",
      "Fuel: 10\n",
      "Contents: []\n",
      "No Room!\n",
      "Contents after put(): ['wrench', 'helmet']\n",
      "Fuel after flying: 5\n",
      "Not enough fuel!\n",
      "Fuel now: 5\n",
      "Contents after dump: []\n",
      "Fuel after dump: 0\n"
     ]
    }
   ],
   "source": [
    "def test_jetpack():\n",
    "    jp = Jetpack(\"Barry\", \"silver\")\n",
    "\n",
    "    print(\"Owner:\", jp.name)\n",
    "    print(\"Color:\", jp.color)\n",
    "    print(\"Max Size:\", jp.max_size)\n",
    "    print(\"Fuel:\", jp.fuel)\n",
    "    print(\"Contents:\", jp.contents)\n",
    "\n",
    "    # Add items\n",
    "    jp.put(\"wrench\")\n",
    "    jp.put(\"helmet\")\n",
    "    jp.put(\"extra\")   # should print \"No Room!\"\n",
    "    print(\"Contents after put():\", jp.contents)\n",
    "\n",
    "    # Fly test\n",
    "    jp.fly(5)\n",
    "    print(\"Fuel after flying:\", jp.fuel)\n",
    "\n",
    "    jp.fly(20)  # should print \"Not enough fuel!\"\n",
    "    print(\"Fuel now:\", jp.fuel)\n",
    "\n",
    "    # Dump test\n",
    "    jp.dump()\n",
    "    print(\"Contents after dump:\", jp.contents)\n",
    "    print(\"Fuel after dump:\", jp.fuel)\n",
    "\n",
    "# Run the test\n",
    "test_jetpack()\n"
   ]
  }
 ],
 "metadata": {
  "kernelspec": {
   "display_name": "base",
   "language": "python",
   "name": "python3"
  },
  "language_info": {
   "codemirror_mode": {
    "name": "ipython",
    "version": 3
   },
   "file_extension": ".py",
   "mimetype": "text/x-python",
   "name": "python",
   "nbconvert_exporter": "python",
   "pygments_lexer": "ipython3",
   "version": "3.13.5"
  }
 },
 "nbformat": 4,
 "nbformat_minor": 5
}
